{
 "cells": [
  {
   "cell_type": "markdown",
   "metadata": {},
   "source": [
    "Create a 10 x 10 grid graph, with 40% of nodes belonging to the pink party and 60% belonging to the purple party.\n",
    "\n",
    "Generate a ReCom ensemble for partitions of the graph into 10 districts and keep track of seat share for each party."
   ]
  },
  {
   "cell_type": "code",
   "execution_count": 7,
   "metadata": {},
   "outputs": [
    {
     "ename": "ImportError",
     "evalue": "cannot import name 'Graph' from 'gerrychain' (unknown location)",
     "output_type": "error",
     "traceback": [
      "\u001b[0;31m---------------------------------------------------------------------------\u001b[0m",
      "\u001b[0;31mImportError\u001b[0m                               Traceback (most recent call last)",
      "\u001b[0;32m<ipython-input-7-3e82a6611c02>\u001b[0m in \u001b[0;36m<module>\u001b[0;34m\u001b[0m\n\u001b[1;32m     12\u001b[0m \u001b[0;32mimport\u001b[0m \u001b[0mgeopandas\u001b[0m\u001b[0;34m\u001b[0m\u001b[0;34m\u001b[0m\u001b[0m\n\u001b[1;32m     13\u001b[0m \u001b[0;34m\u001b[0m\u001b[0m\n\u001b[0;32m---> 14\u001b[0;31m \u001b[0;32mfrom\u001b[0m \u001b[0mgerrychain\u001b[0m \u001b[0;32mimport\u001b[0m \u001b[0mGraph\u001b[0m\u001b[0;34m,\u001b[0m \u001b[0mPartition\u001b[0m\u001b[0;34m,\u001b[0m \u001b[0mElection\u001b[0m\u001b[0;34m\u001b[0m\u001b[0;34m\u001b[0m\u001b[0m\n\u001b[0m\u001b[1;32m     15\u001b[0m \u001b[0;32mfrom\u001b[0m \u001b[0mgerrychain\u001b[0m\u001b[0;34m.\u001b[0m\u001b[0mupdaters\u001b[0m \u001b[0;32mimport\u001b[0m \u001b[0mTally\u001b[0m\u001b[0;34m,\u001b[0m \u001b[0mcut_edges\u001b[0m\u001b[0;34m\u001b[0m\u001b[0;34m\u001b[0m\u001b[0m\n\u001b[1;32m     16\u001b[0m \u001b[0;32mfrom\u001b[0m \u001b[0mgerrychain\u001b[0m \u001b[0;32mimport\u001b[0m \u001b[0mMarkovChain\u001b[0m\u001b[0;34m\u001b[0m\u001b[0;34m\u001b[0m\u001b[0m\n",
      "\u001b[0;31mImportError\u001b[0m: cannot import name 'Graph' from 'gerrychain' (unknown location)"
     ]
    }
   ],
   "source": [
    "import numpy as np\n",
    "import networkx as nx\n",
    "import matplotlib.pyplot as plt\n",
    "import matplotlib \n",
    "%matplotlib inline  \n",
    "import random\n",
    "import time\n",
    "import math\n",
    "import os\n",
    "import csv\n",
    "\n",
    "import geopandas\n",
    "\n",
    "from gerrychain import Graph, Partition, Election\n",
    "from gerrychain.updaters import Tally, cut_edges\n",
    "from gerrychain import MarkovChain\n",
    "from gerrychain.constraints import single_flip_contiguous\n",
    "from gerrychain.proposals import propose_random_flip\n",
    "from gerrychain.accept import always_accept\n",
    "from gerrychain import (GeographicPartition, Partition, Graph, MarkovChain,\n",
    "                        proposals, updaters, constraints, accept, Election)\n",
    "from gerrychain.constraints.validity import within_percent_of_ideal_population\n",
    "from gerrychain.metrics import mean_median,efficiency_gap\n",
    "from gerrychain.proposals import recom\n",
    "from functools import partial\n",
    "from gerrychain.tree import recursive_tree_part\n",
    "\n",
    "from tqdm import tqdm"
   ]
  },
  {
   "cell_type": "code",
   "execution_count": 8,
   "metadata": {},
   "outputs": [],
   "source": [
    "n1 = 10  # Graph dimensions\n",
    "n2 = 10\n",
    "graph1=nx.grid_graph([n1, n2])"
   ]
  },
  {
   "cell_type": "code",
   "execution_count": 3,
   "metadata": {},
   "outputs": [
    {
     "data": {
      "image/png": "[encoded data removed]",
      "text/plain": [
       "<Figure size 432x288 with 1 Axes>"
      ]
     },
     "metadata": {},
     "output_type": "display_data"
    }
   ],
   "source": [
    "plt.figure()\n",
    "nx.draw(graph1, pos = {x:x for x in graph1.nodes()}, node_size = 50, node_shape ='s')\n",
    "plt.show()"
   ]
  },
  {
   "cell_type": "markdown",
   "metadata": {},
   "source": [
    "Set each graph node's population equal to 1, assign 40% randomly to the pink party and 60% to the purple party, and identify which nodes are on the outer boundary of the graph:"
   ]
  },
  {
   "cell_type": "code",
   "execution_count": 7,
   "metadata": {},
   "outputs": [],
   "source": [
    "for n in graph1.nodes():\n",
    "    graph1.nodes[n][\"population\"]=1\n",
    "    if random.random()<0.4:\n",
    "        graph1.nodes[n][\"pink\"]=1\n",
    "        graph1.nodes[n][\"purple\"]=0\n",
    "    else:\n",
    "        graph1.nodes[n][\"pink\"]=0\n",
    "        graph1.nodes[n][\"purple\"]=1\n",
    "    \n",
    "    if 0 == n[0] or n2-1 == n[0] or 0 == n[1] or n1-1 == n[1]:\n",
    "        graph1.nodes[n][\"boundary_node\"]=True\n",
    "        if (0 == n[0] or n2-1 == n[0]) and (0 == n[1] or n1-1 == n[1]):\n",
    "            graph1.nodes[n][\"boundary_perim\"]=2\n",
    "        else:\n",
    "            graph1.nodes[n][\"boundary_perim\"]=1\n",
    "    else:\n",
    "        graph1.nodes[n][\"boundary_node\"]=False\n"
   ]
  },
  {
   "cell_type": "markdown",
   "metadata": {},
   "source": [
    "Plot the graph according to partisan affiliation of each node:"
   ]
  },
  {
   "cell_type": "code",
   "execution_count": 8,
   "metadata": {},
   "outputs": [
    {
     "data": {
      "image/png": "[encoded data removed]",
      "text/plain": [
       "<Figure size 432x288 with 1 Axes>"
      ]
     },
     "metadata": {},
     "output_type": "display_data"
    }
   ],
   "source": [
    "partycolorlist=[\"pink\", \"purple\"]\n",
    "party_cmap = matplotlib.colors.ListedColormap(partycolorlist)\n",
    "\n",
    "plt.figure()\n",
    "nx.draw(graph1, pos = {x:x for x in graph1.nodes()}, node_color = [graph1.nodes[x][\"purple\"] for x in graph1.nodes()] ,node_size = 50, node_shape ='s',cmap = party_cmap)\n",
    "plt.show()"
   ]
  },
  {
   "cell_type": "markdown",
   "metadata": {},
   "source": [
    "Build a simple initial partition into 10 districts. "
   ]
  },
  {
   "cell_type": "code",
   "execution_count": 9,
   "metadata": {},
   "outputs": [],
   "source": [
    "cddict = {x: int(10*x[0]/n2)  for x in graph1.nodes()}     "
   ]
  },
  {
   "cell_type": "markdown",
   "metadata": {},
   "source": [
    "Plot initial partition, just for kicks:"
   ]
  },
  {
   "cell_type": "code",
   "execution_count": 10,
   "metadata": {},
   "outputs": [
    {
     "data": {
      "image/png": "[encoded data removed]",
      "text/plain": [
       "<Figure size 432x288 with 1 Axes>"
      ]
     },
     "metadata": {},
     "output_type": "display_data"
    }
   ],
   "source": [
    "plt.figure()\n",
    "nx.draw(graph1, pos = {x:x for x in graph1.nodes()}, node_color = [cddict[x] for x in graph1.nodes()] ,node_size = 50, node_shape ='s',cmap = 'tab20')\n",
    "plt.show()"
   ]
  },
  {
   "cell_type": "markdown",
   "metadata": {},
   "source": [
    "Define and configure updaters and a function to count votes in each district:"
   ]
  },
  {
   "cell_type": "code",
   "execution_count": 11,
   "metadata": {},
   "outputs": [],
   "source": [
    "def pink_votes(graph):\n",
    "    pvotes=0\n",
    "    for n in graph.nodes():\n",
    "        if graph.nodes[n][\"pink\"] > graph.nodes[n][\"purple\"]:\n",
    "            pvotes += 1\n",
    "    return(pvotes)\n",
    "    \n",
    "\n",
    "updaters = {'population': Tally('population')}\n"
   ]
  },
  {
   "cell_type": "code",
   "execution_count": 12,
   "metadata": {},
   "outputs": [],
   "source": [
    "initial_partition = Partition(graph1,assignment=cddict,updaters=updaters)\n"
   ]
  },
  {
   "cell_type": "markdown",
   "metadata": {},
   "source": [
    "Add constraints:"
   ]
  },
  {
   "cell_type": "code",
   "execution_count": 13,
   "metadata": {},
   "outputs": [],
   "source": [
    "popbound=within_percent_of_ideal_population(initial_partition,.02)\n",
    "\n",
    "ideal_population = sum(initial_partition[\"population\"].values()) / len(initial_partition)\n"
   ]
  },
  {
   "cell_type": "markdown",
   "metadata": {},
   "source": [
    "Set up the ReCom proposal and define the chain:"
   ]
  },
  {
   "cell_type": "code",
   "execution_count": 14,
   "metadata": {},
   "outputs": [],
   "source": [
    "tree_proposal = partial(recom,\n",
    "                       pop_col=\"population\",\n",
    "                       pop_target=ideal_population,\n",
    "                       epsilon=0.02,\n",
    "                       node_repeats=1\n",
    "                      )\n",
    "\n",
    "recom_chain=MarkovChain(\n",
    "    proposal=tree_proposal,\n",
    "    constraints=[\n",
    "        constraints.within_percent_of_ideal_population(initial_partition, .02)\n",
    "            ],\n",
    "        accept=accept.always_accept,\n",
    "        initial_state=initial_partition,\n",
    "        total_steps=1000\n",
    "        )\n"
   ]
  },
  {
   "cell_type": "markdown",
   "metadata": {},
   "source": [
    "Define lists to keep track of statistics for each chain:"
   ]
  },
  {
   "cell_type": "code",
   "execution_count": 15,
   "metadata": {},
   "outputs": [],
   "source": [
    "pink_seats=[]"
   ]
  },
  {
   "cell_type": "markdown",
   "metadata": {},
   "source": [
    "Run chain, draw final districting plans in the chain, and collect stats"
   ]
  },
  {
   "cell_type": "code",
   "execution_count": 16,
   "metadata": {},
   "outputs": [
    {
     "data": {
      "application/vnd.jupyter.widget-view+json": {
       "model_id": "aa816091cec1424191a8562c350c8ad2",
       "version_major": 2,
       "version_minor": 0
      },
      "text/plain": [
       "HBox(children=(HTML(value=''), FloatProgress(value=0.0, max=1000.0), HTML(value='')))"
      ]
     },
     "metadata": {},
     "output_type": "display_data"
    },
    {
     "name": "stdout",
     "output_type": "stream",
     "text": [
      "\n"
     ]
    },
    {
     "data": {
      "image/png": "[encoded data removed]",
      "text/plain": [
       "<Figure size 432x288 with 1 Axes>"
      ]
     },
     "metadata": {},
     "output_type": "display_data"
    }
   ],
   "source": [
    "for partition in recom_chain.with_progress_bar():\n",
    "    pinkseats=0\n",
    "    for dist_num, subgraph in partition.subgraphs.items():\n",
    "        if pink_votes(subgraph) > 5:\n",
    "            pinkseats += 1\n",
    "        elif pink_votes(subgraph)==5:\n",
    "            pinkseats +=0.5\n",
    "    pink_seats.append(pinkseats)\n",
    "\n",
    "\n",
    "plt.figure()\n",
    "nx.draw(graph1, pos = {x:x for x in graph1.nodes()}, node_color = [dict(partition.assignment)[x] for x in graph1.nodes()] ,node_size = 50, node_shape ='s',cmap = 'tab20')\n",
    "plt.show()\n"
   ]
  },
  {
   "cell_type": "code",
   "execution_count": 19,
   "metadata": {},
   "outputs": [
    {
     "data": {
      "image/png": "[encoded data removed]",
      "text/plain": [
       "<Figure size 432x288 with 1 Axes>"
      ]
     },
     "metadata": {
      "needs_background": "light"
     },
     "output_type": "display_data"
    }
   ],
   "source": [
    "plt.hist(pink_seats)\n",
    "plt.show()"
   ]
  },
  {
   "cell_type": "markdown",
   "metadata": {},
   "source": [
    "Putting these into more intelligent bins:"
   ]
  },
  {
   "cell_type": "code",
   "execution_count": 20,
   "metadata": {},
   "outputs": [
    {
     "data": {
      "image/png": "[encoded data removed]",
      "text/plain": [
       "<Figure size 432x288 with 1 Axes>"
      ]
     },
     "metadata": {
      "needs_background": "light"
     },
     "output_type": "display_data"
    }
   ],
   "source": [
    "plt.hist(pink_seats, ec=\"black\", bins=[0.75, 1.25, 1.75, 2.25, 2.75, 3.25, 3.75, 4.25, 4.75])\n",
    "plt.show()"
   ]
  },
  {
   "cell_type": "markdown",
   "metadata": {},
   "source": [
    "So the most common outcome is 2.5 seats for pink - not proportional!"
   ]
  },
  {
   "cell_type": "code",
   "execution_count": null,
   "metadata": {},
   "outputs": [],
   "source": []
  },
  {
   "cell_type": "code",
   "execution_count": null,
   "metadata": {},
   "outputs": [],
   "source": []
  },
  {
   "cell_type": "code",
   "execution_count": null,
   "metadata": {},
   "outputs": [],
   "source": []
  },
  {
   "cell_type": "code",
   "execution_count": null,
   "metadata": {},
   "outputs": [],
   "source": []
  }
 ],
 "metadata": {
  "kernelspec": {
   "display_name": "Python 3",
   "language": "python",
   "name": "python3"
  },
  "language_info": {
   "codemirror_mode": {
    "name": "ipython",
    "version": 3
   },
   "file_extension": ".py",
   "mimetype": "text/x-python",
   "name": "python",
   "nbconvert_exporter": "python",
   "pygments_lexer": "ipython3",
   "version": "3.8.6"
  }
 },
 "nbformat": 4,
 "nbformat_minor": 4
}
